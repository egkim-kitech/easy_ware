{
 "cells": [
  {
   "cell_type": "code",
   "execution_count": 43,
   "metadata": {},
   "outputs": [],
   "source": [
    "from pyroutelib3 import Router # Import the router\n",
    "import pandas as pd\n",
    "import numpy as np\n",
    "import osmnx as ox\n",
    "import matplotlib.pyplot as plt\n",
    "router = Router(\"car\",\"./map.osm\") # Initialise it"
   ]
  },
  {
   "cell_type": "code",
   "execution_count": 90,
   "metadata": {},
   "outputs": [],
   "source": [
    "rnode = list(router.rnodes.items())\n",
    "route_id = []\n",
    "route_pointx = []\n",
    "route_pointy = []\n",
    "for i in range(len(rnode)):\n",
    "    id ,(x,y) = rnode[i]\n",
    "    route_id.append(id)\n",
    "    route_pointx.append(y)\n",
    "    route_pointy.append(x)"
   ]
  },
  {
   "cell_type": "code",
   "execution_count": 109,
   "metadata": {},
   "outputs": [
    {
     "ename": "SyntaxError",
     "evalue": "invalid syntax (3684951323.py, line 5)",
     "output_type": "error",
     "traceback": [
      "\u001b[1;36m  Cell \u001b[1;32mIn[109], line 5\u001b[1;36m\u001b[0m\n\u001b[1;33m    print(from)\u001b[0m\n\u001b[1;37m          ^\u001b[0m\n\u001b[1;31mSyntaxError\u001b[0m\u001b[1;31m:\u001b[0m invalid syntax\n"
     ]
    }
   ],
   "source": [
    "connection_from = list(router.routing.keys())\n",
    "connection_to = list(router.routing.items())\n",
    "From, to = connection_to[0]\n",
    "print(connection_to[0])\n",
    "print(From)"
   ]
  },
  {
   "cell_type": "code",
   "execution_count": 11,
   "metadata": {},
   "outputs": [],
   "source": [
    "start = router.findNode(35.22635, 126.84801) # Find start and end nodes\n",
    "end = router.findNode(35.22571, 126.84777)"
   ]
  },
  {
   "cell_type": "code",
   "execution_count": 14,
   "metadata": {},
   "outputs": [
    {
     "name": "stdout",
     "output_type": "stream",
     "text": [
      "[(35.2263623, 126.8479811), (35.2252887, 126.8484853), (35.2249874, 126.8475322), (35.2249512, 126.8474178), (35.2253237, 126.8472408), (35.2255297, 126.8478469), (35.2257356, 126.8477504)]\n"
     ]
    }
   ],
   "source": [
    "status, route = router.doRoute(start, end) # Find the route - a list of OSM nodes\n",
    "if status == 'success':\n",
    "    routeLatLons = list(map(router.nodeLatLon, route)) # Get actual route coordinates\n",
    "\n",
    "print(routeLatLons)"
   ]
  },
  {
   "cell_type": "code",
   "execution_count": 103,
   "metadata": {},
   "outputs": [
    {
     "data": {
      "text/plain": [
       "[<matplotlib.lines.Line2D at 0x18f403fbd90>]"
      ]
     },
     "execution_count": 103,
     "metadata": {},
     "output_type": "execute_result"
    }
   ],
   "source": [
    "img_pointx = []\n",
    "img_pointy = []\n",
    "for x,y in routeLatLons:\n",
    "    img_pointx.append(y)\n",
    "    img_pointy.append(x)\n",
    "\n",
    "plt.figure(1)\n",
    "plt.clf()\n",
    "plt.axes().set_aspect('equal')\n",
    "plt.scatter(route_pointx,route_pointy,color = 'red')\n",
    "plt.plot(img_pointx,img_pointy,marker=\">\")\n"
   ]
  }
 ],
 "metadata": {
  "kernelspec": {
   "display_name": "torch-38",
   "language": "python",
   "name": "python3"
  },
  "language_info": {
   "codemirror_mode": {
    "name": "ipython",
    "version": 3
   },
   "file_extension": ".py",
   "mimetype": "text/x-python",
   "name": "python",
   "nbconvert_exporter": "python",
   "pygments_lexer": "ipython3",
   "version": "3.8.18"
  }
 },
 "nbformat": 4,
 "nbformat_minor": 2
}
